{
 "cells": [
  {
   "cell_type": "code",
   "execution_count": null,
   "metadata": {},
   "outputs": [],
   "source": []
  }
 ],
 "metadata": {
  "interpreter": {
   "hash": "b293aba3c31597557259d0f27e0f7a3f2c9bd9c2f28b501d5749b4f3124fc7eb"
  },
  "kernelspec": {
   "display_name": "Python 3.9.5 64-bit ('myDjangoEnv': conda)",
   "name": "python3"
  },
  "language_info": {
   "name": "python",
   "version": ""
  },
  "orig_nbformat": 4
 },
 "nbformat": 4,
 "nbformat_minor": 2
}